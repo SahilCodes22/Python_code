{
 "cells": [
  {
   "cell_type": "code",
   "execution_count": 11,
   "metadata": {},
   "outputs": [
    {
     "name": "stdout",
     "output_type": "stream",
     "text": [
      "30\n"
     ]
    }
   ],
   "source": [
    "#Assignment 1\n",
    "\n",
    "#1. Basic Arithmetic Operations\n",
    "\n",
    "# Write a Python script that declares two variables, num1 and num2, assigns them with integer values,\n",
    "# and then performs basic arithmetic operations such as addition, subtraction, multiplication, and division using these variables.\n",
    "\n",
    "num1 = int(input('enter number 1 '))\n",
    "num2 = int(input('enter number 2 '))\n",
    "print(num1+num2)\n",
    "\n"
   ]
  },
  {
   "cell_type": "code",
   "execution_count": 14,
   "metadata": {},
   "outputs": [
    {
     "name": "stdout",
     "output_type": "stream",
     "text": [
      "212 degree fahreheit\n"
     ]
    }
   ],
   "source": [
    "#2. Temperature Converter\n",
    "\n",
    "#Create a Python program that prompts the user to enter a temperature in Celsius, stores it in a variable, \n",
    "# and then converts it to Fahrenheit using the formula (Celsius * 9/5) + 32. Display the result.\n",
    "\n",
    "Temperature = int(input(\"Enter the temperature in Celsius: \"))\n",
    "\n",
    "Fahreheit = int(Temperature*9/5 + 32)\n",
    "\n",
    "print(Fahreheit, \"degree fahreheit\")"
   ]
  },
  {
   "cell_type": "code",
   "execution_count": null,
   "metadata": {},
   "outputs": [
    {
     "name": "stdout",
     "output_type": "stream",
     "text": [
      "SahilBhat\n"
     ]
    }
   ],
   "source": [
    "# String Concatenation\n",
    "\n",
    "# Write a Python script that declares two string variables and concatenates them together. \n",
    "# Prompt the user to enter their first name and last name separately, then concatenate them and print out the full name.\n",
    "\n",
    "First_name = (input(\"Enter your first name: \"))\n",
    "Last_name = (input('Enter your last name: '))\n",
    "\n",
    "print(First_name + Last_name)\n",
    "\n",
    "                                                                     #DOUBT: How do I add a space between first name and last name?\n",
    "\n",
    "\n",
    "\n",
    "\n",
    "\n"
   ]
  },
  {
   "cell_type": "code",
   "execution_count": null,
   "metadata": {},
   "outputs": [
    {
     "name": "stdout",
     "output_type": "stream",
     "text": [
      "0.003125\n"
     ]
    }
   ],
   "source": [
    "#BMI Calculator\n",
    "\n",
    "# Develop a Python program that calculates Body Mass Index (BMI). Prompt the user to enter their weight in kilograms and height in meters.\n",
    "#  Calculate BMI using the formula BMI = weight / (height * height). Print out the BMI.\n",
    "\n",
    "Weight=float(input(\"Enter your weight (in kgs): \"))\n",
    "Height=float(input(\"Enter your height (in metres): \"))\n",
    "\n",
    "BMI= Weight/(Height*Height)\n",
    "\n",
    "print(BMI)                                                      #DOUBT: Ask Pankaj sir to check if code has been written correctly\n",
    "\n",
    "\n"
   ]
  },
  {
   "cell_type": "code",
   "execution_count": 2,
   "metadata": {},
   "outputs": [
    {
     "name": "stdout",
     "output_type": "stream",
     "text": [
      "1600.0 m2\n"
     ]
    }
   ],
   "source": [
    "# Area of a Triangle\n",
    "\n",
    "#Write a Python program that calculates the area of a triangle. Prompt the user to enter the base and height of the triangle. \n",
    "# Use the formula Area = (base * height) / 2 and display the result.\n",
    "\n",
    "Base=int(input(\"Enter the base measurements in centrimetres: \"))\n",
    "\n",
    "Height=int(input(\"Enter the height of the triangle in centimetres: \"))\n",
    "\n",
    "Area= int(Base*Height)/2\n",
    "\n",
    "print( Area, \"m2\")\n",
    "\n",
    "\n"
   ]
  },
  {
   "cell_type": "code",
   "execution_count": null,
   "metadata": {},
   "outputs": [
    {
     "name": "stdout",
     "output_type": "stream",
     "text": [
      "26 years old\n"
     ]
    }
   ],
   "source": [
    "# Age Calculator\n",
    "\n",
    "#Create a Python script that prompts the user to enter their birth year and stores it in a variable.\n",
    "# Calculate the user's age based on the current year and print out the result.\n",
    "\n",
    "Birth_year=int(input(\"Enter your birth year: \"))\n",
    "\n",
    "Age=(2024-Birth_year)\n",
    "\n",
    "print(Age, \"years old\")\n",
    "\n",
    "\n"
   ]
  },
  {
   "cell_type": "code",
   "execution_count": 9,
   "metadata": {},
   "outputs": [
    {
     "name": "stdout",
     "output_type": "stream",
     "text": [
      "3  is odd\n"
     ]
    }
   ],
   "source": [
    "#Even or Odd\n",
    "\n",
    "#Write a Python program that prompts the user to enter an integer and checks whether it's even or odd. Print out the result.\n",
    "\n",
    "Integer=int(input(\"Enter the integer: \"))\n",
    "\n",
    "if Integer%2==0:\n",
    "    print(Integer,\"is even\")\n",
    "else:\n",
    "    print(Integer, \" is odd\")\n"
   ]
  },
  {
   "cell_type": "code",
   "execution_count": 12,
   "metadata": {},
   "outputs": [
    {
     "name": "stdout",
     "output_type": "stream",
     "text": [
      "C\n"
     ]
    }
   ],
   "source": [
    "# Grade Calculator\n",
    "\n",
    "#Develop a Python script that takes in the scores of three tests (out of 100) and stores them in variables. Calculate the average score and print it out.\n",
    "#Then, based on the average score, assign a letter grade (A, B, C, D, or F) and print it out.\n",
    "\n",
    "Score=int(input(\"Enter your score: \"))\n",
    "\n",
    "if Score<=30:\n",
    "    print(\"F\")\n",
    "elif Score<=40:\n",
    "    print(\"D\")\n",
    "elif Score<=50:\n",
    "    print(\"C\")"
   ]
  }
 ],
 "metadata": {
  "kernelspec": {
   "display_name": "Python 3",
   "language": "python",
   "name": "python3"
  },
  "language_info": {
   "codemirror_mode": {
    "name": "ipython",
    "version": 3
   },
   "file_extension": ".py",
   "mimetype": "text/x-python",
   "name": "python",
   "nbconvert_exporter": "python",
   "pygments_lexer": "ipython3",
   "version": "3.13.0"
  }
 },
 "nbformat": 4,
 "nbformat_minor": 2
}
