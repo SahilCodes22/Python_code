{
 "cells": [
  {
   "cell_type": "code",
   "execution_count": null,
   "metadata": {},
   "outputs": [
    {
     "name": "stdout",
     "output_type": "stream",
     "text": [
      "{}\n",
      "<class 'dict'>\n"
     ]
    }
   ],
   "source": [
    "# Dictionaries  (28th November,2024)\n",
    "\n",
    "data={}    #Creating empty dictionary\n",
    "\n",
    "print(data)\n",
    "\n",
    "#Check Type\n",
    "\n",
    "print(type(data))\n",
    "\n",
    "\n"
   ]
  },
  {
   "cell_type": "code",
   "execution_count": 5,
   "metadata": {},
   "outputs": [
    {
     "name": "stdout",
     "output_type": "stream",
     "text": [
      "{'name': 'Sahil', 'age': 21, 'Height': 168}\n",
      "\n",
      "Sahil\n",
      "21\n",
      "168\n"
     ]
    }
   ],
   "source": [
    "data={\"name\": \"Sahil\", \"age\": 21, \"Height\": 168}\n",
    "\n",
    "print(data)\n",
    "\n",
    "print(\"\")\n",
    "\n",
    "print(data[\"name\"])\n",
    "print(data[\"age\"])\n",
    "print(data[\"Height\"])"
   ]
  },
  {
   "cell_type": "code",
   "execution_count": 15,
   "metadata": {},
   "outputs": [
    {
     "name": "stdout",
     "output_type": "stream",
     "text": [
      "{'name': 'Sahil', 'age': 21, 'Height': 168, 'city': 'Mumbai'}\n",
      "dict_keys(['name', 'age', 'Height', 'city'])\n",
      "dict_values(['Sahil', 21, 168, 'Mumbai'])\n",
      "dict_items([('name', 'Sahil'), ('age', 21), ('Height', 168), ('city', 'Mumbai')])\n",
      "Sahil\n",
      "{'age': 21, 'Height': 168, 'city': 'Mumbai'}\n"
     ]
    }
   ],
   "source": [
    "#Add new key and value\n",
    "\n",
    "data={\"name\": \"Sahil\", \"age\": 21, \"Height\": 168}\n",
    "\n",
    "data[\"city\"]=\"Mumbai\"\n",
    "print(data)\n",
    "\n",
    "print(data.keys())\n",
    "print(data.values())\n",
    "print(data.items())\n",
    "print(data.get(\"name\"))\n",
    "\n",
    "data.pop(\"name\")\n",
    "print(data)\n"
   ]
  },
  {
   "cell_type": "code",
   "execution_count": 12,
   "metadata": {},
   "outputs": [
    {
     "name": "stdout",
     "output_type": "stream",
     "text": [
      "age:21\n",
      "Height:168\n",
      "city:Mumbai\n"
     ]
    }
   ],
   "source": [
    "for key,value in data.items():\n",
    "    print(f\"{key}:{value}\")"
   ]
  }
 ],
 "metadata": {
  "kernelspec": {
   "display_name": "Python 3",
   "language": "python",
   "name": "python3"
  },
  "language_info": {
   "codemirror_mode": {
    "name": "ipython",
    "version": 3
   },
   "file_extension": ".py",
   "mimetype": "text/x-python",
   "name": "python",
   "nbconvert_exporter": "python",
   "pygments_lexer": "ipython3",
   "version": "3.13.0"
  }
 },
 "nbformat": 4,
 "nbformat_minor": 2
}
